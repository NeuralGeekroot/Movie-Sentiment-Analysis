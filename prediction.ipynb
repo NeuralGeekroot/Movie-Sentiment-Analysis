{
 "cells": [
  {
   "cell_type": "code",
   "execution_count": 1,
   "metadata": {},
   "outputs": [],
   "source": [
    "# Step 1: Import Libraries and Load the Model\n",
    "import numpy as np\n",
    "import tensorflow as tf\n",
    "from tensorflow.keras.preprocessing import sequence\n",
    "from tensorflow.keras.datasets import imdb\n",
    "from tensorflow.keras.models import load_model"
   ]
  },
  {
   "cell_type": "code",
   "execution_count": 2,
   "metadata": {},
   "outputs": [],
   "source": [
    "\n",
    "# Load the IMDB dataset word index\n",
    "word_index = imdb.get_word_index()\n",
    "reverse_word_index = {value: key for key, value in word_index.items()}"
   ]
  },
  {
   "cell_type": "code",
   "execution_count": 3,
   "metadata": {},
   "outputs": [
    {
     "name": "stderr",
     "output_type": "stream",
     "text": [
      "WARNING:absl:Compiled the loaded model, but the compiled metrics have yet to be built. `model.compile_metrics` will be empty until you train or evaluate the model.\n"
     ]
    },
    {
     "data": {
      "text/html": [
       "<pre style=\"white-space:pre;overflow-x:auto;line-height:normal;font-family:Menlo,'DejaVu Sans Mono',consolas,'Courier New',monospace\"><span style=\"font-weight: bold\">Model: \"sequential_3\"</span>\n",
       "</pre>\n"
      ],
      "text/plain": [
       "\u001b[1mModel: \"sequential_3\"\u001b[0m\n"
      ]
     },
     "metadata": {},
     "output_type": "display_data"
    },
    {
     "data": {
      "text/html": [
       "<pre style=\"white-space:pre;overflow-x:auto;line-height:normal;font-family:Menlo,'DejaVu Sans Mono',consolas,'Courier New',monospace\">┏━━━━━━━━━━━━━━━━━━━━━━━━━━━━━━━━━┳━━━━━━━━━━━━━━━━━━━━━━━━┳━━━━━━━━━━━━━━━┓\n",
       "┃<span style=\"font-weight: bold\"> Layer (type)                    </span>┃<span style=\"font-weight: bold\"> Output Shape           </span>┃<span style=\"font-weight: bold\">       Param # </span>┃\n",
       "┡━━━━━━━━━━━━━━━━━━━━━━━━━━━━━━━━━╇━━━━━━━━━━━━━━━━━━━━━━━━╇━━━━━━━━━━━━━━━┩\n",
       "│ embedding_3 (<span style=\"color: #0087ff; text-decoration-color: #0087ff\">Embedding</span>)         │ (<span style=\"color: #00af00; text-decoration-color: #00af00\">32</span>, <span style=\"color: #00af00; text-decoration-color: #00af00\">500</span>, <span style=\"color: #00af00; text-decoration-color: #00af00\">128</span>)         │     <span style=\"color: #00af00; text-decoration-color: #00af00\">1,280,000</span> │\n",
       "├─────────────────────────────────┼────────────────────────┼───────────────┤\n",
       "│ simple_rnn_7 (<span style=\"color: #0087ff; text-decoration-color: #0087ff\">SimpleRNN</span>)        │ (<span style=\"color: #00af00; text-decoration-color: #00af00\">32</span>, <span style=\"color: #00af00; text-decoration-color: #00af00\">500</span>, <span style=\"color: #00af00; text-decoration-color: #00af00\">128</span>)         │        <span style=\"color: #00af00; text-decoration-color: #00af00\">32,896</span> │\n",
       "├─────────────────────────────────┼────────────────────────┼───────────────┤\n",
       "│ simple_rnn_8 (<span style=\"color: #0087ff; text-decoration-color: #0087ff\">SimpleRNN</span>)        │ (<span style=\"color: #00af00; text-decoration-color: #00af00\">32</span>, <span style=\"color: #00af00; text-decoration-color: #00af00\">500</span>, <span style=\"color: #00af00; text-decoration-color: #00af00\">64</span>)          │        <span style=\"color: #00af00; text-decoration-color: #00af00\">12,352</span> │\n",
       "├─────────────────────────────────┼────────────────────────┼───────────────┤\n",
       "│ dropout_7 (<span style=\"color: #0087ff; text-decoration-color: #0087ff\">Dropout</span>)             │ (<span style=\"color: #00af00; text-decoration-color: #00af00\">32</span>, <span style=\"color: #00af00; text-decoration-color: #00af00\">500</span>, <span style=\"color: #00af00; text-decoration-color: #00af00\">64</span>)          │             <span style=\"color: #00af00; text-decoration-color: #00af00\">0</span> │\n",
       "├─────────────────────────────────┼────────────────────────┼───────────────┤\n",
       "│ simple_rnn_9 (<span style=\"color: #0087ff; text-decoration-color: #0087ff\">SimpleRNN</span>)        │ (<span style=\"color: #00af00; text-decoration-color: #00af00\">32</span>, <span style=\"color: #00af00; text-decoration-color: #00af00\">32</span>)               │         <span style=\"color: #00af00; text-decoration-color: #00af00\">3,104</span> │\n",
       "├─────────────────────────────────┼────────────────────────┼───────────────┤\n",
       "│ dropout_8 (<span style=\"color: #0087ff; text-decoration-color: #0087ff\">Dropout</span>)             │ (<span style=\"color: #00af00; text-decoration-color: #00af00\">32</span>, <span style=\"color: #00af00; text-decoration-color: #00af00\">32</span>)               │             <span style=\"color: #00af00; text-decoration-color: #00af00\">0</span> │\n",
       "├─────────────────────────────────┼────────────────────────┼───────────────┤\n",
       "│ dense_3 (<span style=\"color: #0087ff; text-decoration-color: #0087ff\">Dense</span>)                 │ (<span style=\"color: #00af00; text-decoration-color: #00af00\">32</span>, <span style=\"color: #00af00; text-decoration-color: #00af00\">1</span>)                │            <span style=\"color: #00af00; text-decoration-color: #00af00\">33</span> │\n",
       "└─────────────────────────────────┴────────────────────────┴───────────────┘\n",
       "</pre>\n"
      ],
      "text/plain": [
       "┏━━━━━━━━━━━━━━━━━━━━━━━━━━━━━━━━━┳━━━━━━━━━━━━━━━━━━━━━━━━┳━━━━━━━━━━━━━━━┓\n",
       "┃\u001b[1m \u001b[0m\u001b[1mLayer (type)                   \u001b[0m\u001b[1m \u001b[0m┃\u001b[1m \u001b[0m\u001b[1mOutput Shape          \u001b[0m\u001b[1m \u001b[0m┃\u001b[1m \u001b[0m\u001b[1m      Param #\u001b[0m\u001b[1m \u001b[0m┃\n",
       "┡━━━━━━━━━━━━━━━━━━━━━━━━━━━━━━━━━╇━━━━━━━━━━━━━━━━━━━━━━━━╇━━━━━━━━━━━━━━━┩\n",
       "│ embedding_3 (\u001b[38;5;33mEmbedding\u001b[0m)         │ (\u001b[38;5;34m32\u001b[0m, \u001b[38;5;34m500\u001b[0m, \u001b[38;5;34m128\u001b[0m)         │     \u001b[38;5;34m1,280,000\u001b[0m │\n",
       "├─────────────────────────────────┼────────────────────────┼───────────────┤\n",
       "│ simple_rnn_7 (\u001b[38;5;33mSimpleRNN\u001b[0m)        │ (\u001b[38;5;34m32\u001b[0m, \u001b[38;5;34m500\u001b[0m, \u001b[38;5;34m128\u001b[0m)         │        \u001b[38;5;34m32,896\u001b[0m │\n",
       "├─────────────────────────────────┼────────────────────────┼───────────────┤\n",
       "│ simple_rnn_8 (\u001b[38;5;33mSimpleRNN\u001b[0m)        │ (\u001b[38;5;34m32\u001b[0m, \u001b[38;5;34m500\u001b[0m, \u001b[38;5;34m64\u001b[0m)          │        \u001b[38;5;34m12,352\u001b[0m │\n",
       "├─────────────────────────────────┼────────────────────────┼───────────────┤\n",
       "│ dropout_7 (\u001b[38;5;33mDropout\u001b[0m)             │ (\u001b[38;5;34m32\u001b[0m, \u001b[38;5;34m500\u001b[0m, \u001b[38;5;34m64\u001b[0m)          │             \u001b[38;5;34m0\u001b[0m │\n",
       "├─────────────────────────────────┼────────────────────────┼───────────────┤\n",
       "│ simple_rnn_9 (\u001b[38;5;33mSimpleRNN\u001b[0m)        │ (\u001b[38;5;34m32\u001b[0m, \u001b[38;5;34m32\u001b[0m)               │         \u001b[38;5;34m3,104\u001b[0m │\n",
       "├─────────────────────────────────┼────────────────────────┼───────────────┤\n",
       "│ dropout_8 (\u001b[38;5;33mDropout\u001b[0m)             │ (\u001b[38;5;34m32\u001b[0m, \u001b[38;5;34m32\u001b[0m)               │             \u001b[38;5;34m0\u001b[0m │\n",
       "├─────────────────────────────────┼────────────────────────┼───────────────┤\n",
       "│ dense_3 (\u001b[38;5;33mDense\u001b[0m)                 │ (\u001b[38;5;34m32\u001b[0m, \u001b[38;5;34m1\u001b[0m)                │            \u001b[38;5;34m33\u001b[0m │\n",
       "└─────────────────────────────────┴────────────────────────┴───────────────┘\n"
      ]
     },
     "metadata": {},
     "output_type": "display_data"
    },
    {
     "data": {
      "text/html": [
       "<pre style=\"white-space:pre;overflow-x:auto;line-height:normal;font-family:Menlo,'DejaVu Sans Mono',consolas,'Courier New',monospace\"><span style=\"font-weight: bold\"> Total params: </span><span style=\"color: #00af00; text-decoration-color: #00af00\">1,328,387</span> (5.07 MB)\n",
       "</pre>\n"
      ],
      "text/plain": [
       "\u001b[1m Total params: \u001b[0m\u001b[38;5;34m1,328,387\u001b[0m (5.07 MB)\n"
      ]
     },
     "metadata": {},
     "output_type": "display_data"
    },
    {
     "data": {
      "text/html": [
       "<pre style=\"white-space:pre;overflow-x:auto;line-height:normal;font-family:Menlo,'DejaVu Sans Mono',consolas,'Courier New',monospace\"><span style=\"font-weight: bold\"> Trainable params: </span><span style=\"color: #00af00; text-decoration-color: #00af00\">1,328,385</span> (5.07 MB)\n",
       "</pre>\n"
      ],
      "text/plain": [
       "\u001b[1m Trainable params: \u001b[0m\u001b[38;5;34m1,328,385\u001b[0m (5.07 MB)\n"
      ]
     },
     "metadata": {},
     "output_type": "display_data"
    },
    {
     "data": {
      "text/html": [
       "<pre style=\"white-space:pre;overflow-x:auto;line-height:normal;font-family:Menlo,'DejaVu Sans Mono',consolas,'Courier New',monospace\"><span style=\"font-weight: bold\"> Non-trainable params: </span><span style=\"color: #00af00; text-decoration-color: #00af00\">0</span> (0.00 B)\n",
       "</pre>\n"
      ],
      "text/plain": [
       "\u001b[1m Non-trainable params: \u001b[0m\u001b[38;5;34m0\u001b[0m (0.00 B)\n"
      ]
     },
     "metadata": {},
     "output_type": "display_data"
    },
    {
     "data": {
      "text/html": [
       "<pre style=\"white-space:pre;overflow-x:auto;line-height:normal;font-family:Menlo,'DejaVu Sans Mono',consolas,'Courier New',monospace\"><span style=\"font-weight: bold\"> Optimizer params: </span><span style=\"color: #00af00; text-decoration-color: #00af00\">2</span> (12.00 B)\n",
       "</pre>\n"
      ],
      "text/plain": [
       "\u001b[1m Optimizer params: \u001b[0m\u001b[38;5;34m2\u001b[0m (12.00 B)\n"
      ]
     },
     "metadata": {},
     "output_type": "display_data"
    }
   ],
   "source": [
    "# Load the pre-trained model with ReLU activation\n",
    "model = load_model('simple_rnn_imdb.h5')\n",
    "model.summary()"
   ]
  },
  {
   "cell_type": "code",
   "execution_count": 4,
   "metadata": {},
   "outputs": [
    {
     "data": {
      "text/plain": [
       "[array([[ 0.03119406, -0.06581075, -0.07313915, ...,  0.0912709 ,\n",
       "          0.14069964,  0.06663531],\n",
       "        [ 0.02614047,  0.01941061,  0.00025311, ..., -0.01021559,\n",
       "         -0.02218816, -0.03745183],\n",
       "        [ 0.005037  , -0.04794262,  0.1113467 , ..., -0.03296388,\n",
       "          0.03092824,  0.02466884],\n",
       "        ...,\n",
       "        [ 0.00182659, -0.01959829, -0.06752396, ...,  0.04996182,\n",
       "         -0.00263587,  0.01154453],\n",
       "        [-0.00035356, -0.0183731 , -0.02457707, ..., -0.04613563,\n",
       "         -0.046805  ,  0.02131619],\n",
       "        [ 0.00531079, -0.00209703, -0.09575614, ..., -0.00489173,\n",
       "         -0.12290237,  0.12440325]], dtype=float32),\n",
       " array([[-0.03329108, -0.09797049, -0.02504331, ..., -0.06392143,\n",
       "          0.03053786,  0.0699482 ],\n",
       "        [ 0.09906073,  0.09440909,  0.15273024, ...,  0.00660328,\n",
       "         -0.03423711, -0.17165017],\n",
       "        [-0.02579444, -0.09966365, -0.06621285, ...,  0.01330326,\n",
       "          0.16430224,  0.01668726],\n",
       "        ...,\n",
       "        [-0.06727429, -0.11143035, -0.11186177, ...,  0.18726972,\n",
       "          0.07258677, -0.0496536 ],\n",
       "        [-0.06520318,  0.07666022, -0.15014485, ..., -0.07836413,\n",
       "          0.11866823, -0.18411265],\n",
       "        [-0.03829332, -0.01565964, -0.02967716, ..., -0.0590331 ,\n",
       "         -0.09477854,  0.0011449 ]], dtype=float32),\n",
       " array([[-2.2220029e-01,  5.2463509e-02,  2.5668244e-03, ...,\n",
       "          8.9722686e-02,  3.4572653e-02, -1.6248159e-02],\n",
       "        [-8.5048698e-02,  1.0339241e-01,  1.0440411e-01, ...,\n",
       "          8.2364693e-02,  5.4714378e-02,  7.4047029e-02],\n",
       "        [-1.2501667e-01, -1.9955999e-01,  9.5869116e-02, ...,\n",
       "         -6.0757115e-02,  3.5012942e-02,  2.8512901e-02],\n",
       "        ...,\n",
       "        [-2.0809968e-01, -4.4476591e-02,  1.7332025e-02, ...,\n",
       "         -1.2582628e-01,  9.1158241e-02, -9.3449034e-02],\n",
       "        [-1.1247446e-01,  4.4296758e-07, -9.4744325e-02, ...,\n",
       "         -4.9992159e-02,  9.6805230e-02, -1.8306199e-01],\n",
       "        [ 2.9655388e-02, -2.2201128e-01, -6.5232158e-02, ...,\n",
       "          2.3110625e-01,  7.4635059e-02, -4.1391077e-03]], dtype=float32),\n",
       " array([-0.08761457, -0.02744296, -0.0405214 , -0.02701983, -0.01827926,\n",
       "        -0.02765137, -0.00955832, -0.05034432, -0.04300224, -0.0096361 ,\n",
       "        -0.02727702, -0.05512163, -0.02930785, -0.03281876, -0.00247493,\n",
       "        -0.01972267, -0.02057008, -0.00316933, -0.02733218, -0.04685862,\n",
       "        -0.03566485, -0.01405593, -0.02349875, -0.05708619, -0.01434655,\n",
       "        -0.05291393, -0.00658708, -0.02430249, -0.04773646, -0.02261286,\n",
       "        -0.01210037, -0.01835307, -0.02858188, -0.02911961, -0.03016929,\n",
       "        -0.0487162 , -0.02553663,  0.00291916, -0.02907397, -0.03201508,\n",
       "        -0.01454624, -0.01316691, -0.02491464, -0.00064048, -0.0123066 ,\n",
       "        -0.02043042, -0.01911061, -0.01379222, -0.03595584, -0.03754469,\n",
       "        -0.02984497,  0.00231847, -0.00905863, -0.01713692, -0.02166906,\n",
       "        -0.04319175, -0.03487769, -0.02973869, -0.06517293, -0.02899052,\n",
       "        -0.03150384, -0.03025988, -0.02758493, -0.04362659, -0.03322953,\n",
       "         0.00133747,  0.01252005, -0.03917415, -0.01163922, -0.04969942,\n",
       "         0.00173061, -0.02181776, -0.01304793, -0.0542075 , -0.04240526,\n",
       "        -0.01891491, -0.04537607,  0.01413169, -0.00874599, -0.01462646,\n",
       "        -0.04317542, -0.05379654, -0.03688566, -0.03036116, -0.03206893,\n",
       "        -0.05890949, -0.05669701,  0.00779956, -0.04604471, -0.010226  ,\n",
       "        -0.04927471, -0.02999619, -0.00289103, -0.01131299, -0.03680709,\n",
       "        -0.05375106, -0.03228405, -0.04840641, -0.0067387 , -0.01726695,\n",
       "        -0.0234408 , -0.05260631, -0.01610551, -0.04845088, -0.01926701,\n",
       "        -0.05598418, -0.02166305, -0.01232842, -0.01956957, -0.03508966,\n",
       "        -0.01839467, -0.00963417,  0.00882904, -0.01609929, -0.02809851,\n",
       "        -0.02086796, -0.05608066, -0.07157408, -0.06936886, -0.07784428,\n",
       "        -0.01376193,  0.00914807, -0.05429041, -0.03844341, -0.04581449,\n",
       "        -0.06036477,  0.01091029, -0.03196054], dtype=float32),\n",
       " array([[-0.18622217,  0.04389738, -0.05530955, ...,  0.05758965,\n",
       "          0.00377895,  0.12241372],\n",
       "        [-0.12969983, -0.03545256, -0.09557871, ..., -0.07161495,\n",
       "          0.06079724, -0.08782139],\n",
       "        [ 0.14061609, -0.17076677, -0.18372814, ...,  0.12760715,\n",
       "         -0.0029155 ,  0.1764449 ],\n",
       "        ...,\n",
       "        [-0.05798861, -0.04011371, -0.14975941, ..., -0.0545898 ,\n",
       "         -0.13530879, -0.07434615],\n",
       "        [ 0.13162781,  0.08269101,  0.136073  , ..., -0.03605606,\n",
       "         -0.06302373,  0.09856667],\n",
       "        [-0.01713594,  0.17106985, -0.15536018, ...,  0.01550135,\n",
       "          0.06631404,  0.04935983]], dtype=float32),\n",
       " array([[ 0.06665108, -0.23948857,  0.1778997 , ..., -0.01533109,\n",
       "         -0.09439773,  0.07383728],\n",
       "        [-0.16890296, -0.07736578,  0.03817378, ...,  0.02445861,\n",
       "          0.12766476, -0.11935421],\n",
       "        [-0.16246554, -0.18186326, -0.03708515, ..., -0.00970857,\n",
       "         -0.09128716, -0.073374  ],\n",
       "        ...,\n",
       "        [-0.01447968,  0.04322076, -0.06312881, ..., -0.09976881,\n",
       "          0.02872332, -0.21893416],\n",
       "        [-0.00447216,  0.19954115,  0.02475441, ..., -0.0917317 ,\n",
       "          0.17073077,  0.04105089],\n",
       "        [-0.4016774 ,  0.07328857,  0.01101643, ...,  0.0486754 ,\n",
       "         -0.24597684, -0.03419366]], dtype=float32),\n",
       " array([-0.02618269,  0.02154265, -0.00434286,  0.00623976, -0.01642389,\n",
       "         0.01530723, -0.00259334,  0.04904171, -0.02389039, -0.00140739,\n",
       "         0.00392925,  0.01753354, -0.02411532, -0.00487607, -0.0012298 ,\n",
       "         0.03424985, -0.01158195, -0.00894072, -0.00317185,  0.01789986,\n",
       "         0.01670782, -0.02836438, -0.0442046 , -0.02260815, -0.00129637,\n",
       "        -0.01792936, -0.06065786, -0.03502828, -0.0139383 ,  0.00211345,\n",
       "        -0.02160119,  0.01227965, -0.04652711,  0.02827577,  0.03380208,\n",
       "        -0.0077414 , -0.0188143 , -0.00407917,  0.01746173, -0.02882458,\n",
       "         0.01804202, -0.0550666 , -0.02521929, -0.05542804,  0.02162208,\n",
       "         0.00430586,  0.01543199,  0.11696862, -0.01023378, -0.01607973,\n",
       "         0.02556666,  0.02057523, -0.01433771, -0.04311978, -0.0173092 ,\n",
       "        -0.02426361,  0.01158253, -0.02953116, -0.00944679, -0.01904651,\n",
       "         0.00706228, -0.01205268,  0.01657992,  0.01342172], dtype=float32),\n",
       " array([[-0.23531055, -0.11283022, -0.10591995, ..., -0.02560402,\n",
       "          0.07395943,  0.03741397],\n",
       "        [-0.22719419, -0.09752506, -0.20566048, ..., -0.09463174,\n",
       "         -0.18777752, -0.09792503],\n",
       "        [-0.21832992, -0.02488651, -0.23499899, ..., -0.03473133,\n",
       "         -0.17692928, -0.05511837],\n",
       "        ...,\n",
       "        [ 0.16615719, -0.10149212, -0.0470078 , ..., -0.13776723,\n",
       "         -0.03354176,  0.16862188],\n",
       "        [ 0.08205634,  0.00467968, -0.17372917, ..., -0.22850256,\n",
       "          0.07185446, -0.04643855],\n",
       "        [ 0.19821936, -0.14415441, -0.24594441, ...,  0.07848861,\n",
       "          0.18221048,  0.12949377]], dtype=float32),\n",
       " array([[ 0.05843403,  0.3063886 ,  0.00978762, ..., -0.05095401,\n",
       "         -0.1368101 ,  0.24233161],\n",
       "        [ 0.24355921, -0.17069305, -0.17727835, ...,  0.08435787,\n",
       "         -0.03010499, -0.25292072],\n",
       "        [ 0.40487298,  0.09823852,  0.18946613, ..., -0.0446135 ,\n",
       "         -0.03471855,  0.12910864],\n",
       "        ...,\n",
       "        [ 0.21051408,  0.0753429 , -0.10319673, ..., -0.16743289,\n",
       "         -0.1269403 , -0.08202073],\n",
       "        [ 0.06445927, -0.23589714,  0.3006865 , ..., -0.06663823,\n",
       "         -0.21580589, -0.03779292],\n",
       "        [ 0.17968169,  0.35168695,  0.10541799, ...,  0.00117681,\n",
       "          0.2728997 , -0.03206886]], dtype=float32),\n",
       " array([ 0.0697265 ,  0.011391  , -0.0028772 ,  0.03348638, -0.01885461,\n",
       "         0.07374062, -0.04629336,  0.07178462,  0.0886693 ,  0.03173907,\n",
       "         0.02960772,  0.03267332,  0.07964734, -0.00675502, -0.03910103,\n",
       "         0.00560118, -0.033787  ,  0.06238466,  0.00743006,  0.07198852,\n",
       "        -0.00493071,  0.03306386,  0.03203109,  0.0382872 , -0.03004291,\n",
       "         0.02270775,  0.04492987, -0.04670173, -0.01012784, -0.03581155,\n",
       "         0.03479951,  0.01443047], dtype=float32),\n",
       " array([[ 0.23404114],\n",
       "        [ 0.08043964],\n",
       "        [ 0.23656254],\n",
       "        [-0.35486558],\n",
       "        [-0.23610225],\n",
       "        [-0.24875504],\n",
       "        [ 0.00449459],\n",
       "        [-0.3453218 ],\n",
       "        [-0.08301552],\n",
       "        [-0.24172105],\n",
       "        [ 0.2827109 ],\n",
       "        [ 0.19496757],\n",
       "        [-0.24581067],\n",
       "        [ 0.36104327],\n",
       "        [ 0.05267602],\n",
       "        [-0.07386153],\n",
       "        [ 0.36776808],\n",
       "        [ 0.12807581],\n",
       "        [-0.21208765],\n",
       "        [-0.31250006],\n",
       "        [-0.01646638],\n",
       "        [ 0.30655575],\n",
       "        [ 0.28019604],\n",
       "        [-0.33773902],\n",
       "        [ 0.06495199],\n",
       "        [-0.23324089],\n",
       "        [ 0.30750826],\n",
       "        [ 0.05513246],\n",
       "        [-0.14480557],\n",
       "        [-0.06595194],\n",
       "        [ 0.32466158],\n",
       "        [-0.03570804]], dtype=float32),\n",
       " array([0.00131322], dtype=float32)]"
      ]
     },
     "execution_count": 4,
     "metadata": {},
     "output_type": "execute_result"
    }
   ],
   "source": [
    "model.get_weights()"
   ]
  },
  {
   "cell_type": "code",
   "execution_count": 5,
   "metadata": {},
   "outputs": [],
   "source": [
    "# Step 2: Helper Functions\n",
    "# Function to decode reviews\n",
    "def decode_review(encoded_review):\n",
    "    return ' '.join([reverse_word_index.get(i - 3, '?') for i in encoded_review])\n",
    "\n",
    "# Function to preprocess user input\n",
    "def preprocess_text(text):\n",
    "    words = text.lower().split()\n",
    "    encoded_review = [word_index.get(word, 2) + 3 for word in words]\n",
    "    padded_review = sequence.pad_sequences([encoded_review], maxlen=500)\n",
    "    return padded_review"
   ]
  },
  {
   "cell_type": "code",
   "execution_count": 6,
   "metadata": {},
   "outputs": [],
   "source": [
    "### Prediction  function\n",
    "def predict_sentiment(review):\n",
    "    preprocessed_input = preprocess_text(review)\n",
    "    prediction = model.predict(preprocessed_input)\n",
    "    sentiment = 'Positive' if prediction[0][0] > 0.5 else 'Negative'\n",
    "    return sentiment, prediction[0][0]\n"
   ]
  },
  {
   "cell_type": "code",
   "execution_count": 11,
   "metadata": {},
   "outputs": [
    {
     "name": "stdout",
     "output_type": "stream",
     "text": [
      "\u001b[1m1/1\u001b[0m \u001b[32m━━━━━━━━━━━━━━━━━━━━\u001b[0m\u001b[37m\u001b[0m \u001b[1m0s\u001b[0m 33ms/step\n",
      "Review: This movie was amazing! The acting was good and the plot was intriguing.\n",
      "Sentiment: Positive\n",
      "Prediction Score: 0.5968706011772156\n"
     ]
    }
   ],
   "source": [
    "# Step 4: User Input and Prediction\n",
    "# Example review for prediction\n",
    "example_review = \"This movie was amazing! The acting was good and the plot was intriguing.\"\n",
    "sentiment, score = predict_sentiment(example_review)\n",
    "\n",
    "print(f'Review: {example_review}')\n",
    "print(f'Sentiment: {sentiment}')\n",
    "print(f'Prediction Score: {score}')"
   ]
  },
  {
   "cell_type": "code",
   "execution_count": null,
   "metadata": {},
   "outputs": [],
   "source": []
  }
 ],
 "metadata": {
  "kernelspec": {
   "display_name": "Python 3",
   "language": "python",
   "name": "python3"
  },
  "language_info": {
   "codemirror_mode": {
    "name": "ipython",
    "version": 3
   },
   "file_extension": ".py",
   "mimetype": "text/x-python",
   "name": "python",
   "nbconvert_exporter": "python",
   "pygments_lexer": "ipython3",
   "version": "3.12.0"
  }
 },
 "nbformat": 4,
 "nbformat_minor": 2
}
